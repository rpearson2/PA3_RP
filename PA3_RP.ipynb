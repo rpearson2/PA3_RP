{
 "cells": [
  {
   "cell_type": "markdown",
   "id": "bb24d229",
   "metadata": {},
   "source": [
    "* Robert Pearson\n",
    "* Assignment 3\n",
    "* Version 1\n",
    "* Fall 2023"
   ]
  },
  {
   "cell_type": "markdown",
   "id": "07f3803a",
   "metadata": {},
   "source": [
    "Task 1: List Operations\n",
    "A. Create a list called numbers containing the integers 10, 20, 30, 40, 50.\n",
    "B. Append the number 60 to the list.\n",
    "C. Insert the number 5 at the beginning of the list.\n",
    "D. Remove the second element from the list.\n",
    "E. Print the modified numbers list."
   ]
  },
  {
   "cell_type": "code",
   "execution_count": 40,
   "id": "9585a2a8",
   "metadata": {},
   "outputs": [
    {
     "name": "stdout",
     "output_type": "stream",
     "text": [
      "[10, 20, 30, 40, 50]\n",
      "[10, 20, 30, 40, 50, 60]\n",
      "[5, 10, 20, 30, 40, 50, 60]\n",
      "[5, 20, 30, 40, 50, 60]\n",
      "The final modified list: [5, 20, 30, 40, 50, 60]\n"
     ]
    }
   ],
   "source": [
    "# a)\n",
    "numbers = [10, 20, 30, 40, 50]\n",
    "print(numbers)\n",
    "\n",
    "# b) \n",
    "numbers.append(60)\n",
    "print(numbers)\n",
    "\n",
    "# c)\n",
    "numbers.insert(0,5)\n",
    "print(numbers)\n",
    "\n",
    "# d)\n",
    "del numbers[1]\n",
    "print(numbers)\n",
    "\n",
    "# e) \n",
    "print(\"The final modified list:\",numbers)"
   ]
  },
  {
   "cell_type": "markdown",
   "id": "13e795d9",
   "metadata": {},
   "source": [
    "Task 2: Tuple Basics\n",
    "A. Create a tuple called days containing the days of the week: \"Monday\" to \"Sunday\".\n",
    "B. Print the third day of the week.\n",
    "C. Attempt to modify the second day to \"Funday\". Note and explain the error that occurs."
   ]
  },
  {
   "cell_type": "code",
   "execution_count": 44,
   "id": "7a56ffac",
   "metadata": {},
   "outputs": [
    {
     "name": "stdout",
     "output_type": "stream",
     "text": [
      "The thrid day of the week is Wednesday.\n"
     ]
    }
   ],
   "source": [
    "days=('Monday','Tuesday','Wednesday','Thursday','Friday','Saturday','Sunday')\n",
    "print(f\"The thrid day of the week is {days[2]}.\")\n"
   ]
  },
  {
   "cell_type": "code",
   "execution_count": 7,
   "id": "55b287db",
   "metadata": {},
   "outputs": [],
   "source": [
    "# TypeError: 'tuple' object does not support item assignment\n",
    "# This occurs because a tuple is immutable so you are unable to edit it. \n",
    "# days[1]='Funday'\n",
    "# print(days[1])"
   ]
  },
  {
   "cell_type": "markdown",
   "id": "067e3e14",
   "metadata": {},
   "source": [
    "Task 3: Reversing Sublist\n",
    "A. Create a list named letters containing the letters of the alphabet: \"a\" to \"z\".\n",
    "B. Use list slicing to extract the sublist [p, o, n, m, l, k] from the letters list.\n",
    "C. Reverse the sublist extracted in step 2 and print it."
   ]
  },
  {
   "cell_type": "code",
   "execution_count": 48,
   "id": "b3f39bda",
   "metadata": {},
   "outputs": [
    {
     "name": "stdout",
     "output_type": "stream",
     "text": [
      "Original sublist: ['k', 'l', 'm', 'n', 'o', 'p']\n",
      "Reversed sublist: ['p', 'o', 'n', 'm', 'l', 'k']\n"
     ]
    }
   ],
   "source": [
    "letters = ['a', 'b', 'c', 'd', 'e', 'f', 'g', 'h', 'i', 'j', 'k', 'l', 'm', 'n', 'o', 'p', 'q', 'r', 's', 't', 'u', 'v', 'w', 'x', 'y', 'z']\n",
    "sublist_letters = letters[10:16]\n",
    "print(f\"Original sublist: {letters[10:16]}\")\n",
    "print(\"Reversed sublist:\",sublist_letters[::-1])"
   ]
  },
  {
   "cell_type": "markdown",
   "id": "d362b706",
   "metadata": {},
   "source": [
    "Task 4: Tuple Packing and Unpacking\n",
    "A. Create a tuple called student with your first name, last name, age, and your favorite subject\n",
    "(in that order).\n",
    "B. Unpack the student tuple and print each value individually."
   ]
  },
  {
   "cell_type": "code",
   "execution_count": 15,
   "id": "4b1036a3",
   "metadata": {},
   "outputs": [
    {
     "name": "stdout",
     "output_type": "stream",
     "text": [
      "First Name: Robert\n",
      "Last Name: Pearson\n",
      "Age: 18\n",
      "Favorite Subject: History\n"
     ]
    }
   ],
   "source": [
    "student=('Robert', 'Pearson', 18, 'History')\n",
    "first_name, last_name, age, fav_subject = student\n",
    "print(\"First Name:\", first_name)\n",
    "print(\"Last Name:\", last_name)\n",
    "print(\"Age:\", age)\n",
    "print(\"Favorite Subject:\", fav_subject)"
   ]
  },
  {
   "cell_type": "markdown",
   "id": "f3fc5765",
   "metadata": {},
   "source": [
    "Task 5: Shopping List\n",
    "A. Create a list named shopping_list with at least 5 items you would buy from a grocery store.\n",
    "B. Print the total number of items on your shopping list.\n",
    "C. Replace the third item on the list with a different item.\n",
    "D. Sort the list in alphabetical order.\n",
    "E. Print the sorted shopping list."
   ]
  },
  {
   "cell_type": "code",
   "execution_count": 43,
   "id": "e538868e",
   "metadata": {},
   "outputs": [
    {
     "name": "stdout",
     "output_type": "stream",
     "text": [
      "The shopping list is 5 items long.\n",
      "The updated shopping list: ['bread', 'cheese', 'flour', 'butter', 'eggs']\n",
      "The sorted shopping list: ['bread', 'butter', 'cheese', 'eggs', 'flour']\n"
     ]
    }
   ],
   "source": [
    "# a) \n",
    "shopping_list=['bread','cheese','milk','butter','eggs']\n",
    "\n",
    "# b) \n",
    "print(f\"The shopping list is {len(shopping_list)} items long.\")\n",
    "\n",
    "# c) \n",
    "shopping_list[2]='flour'\n",
    "print(\"The updated shopping list:\",shopping_list)\n",
    "\n",
    "# d)\n",
    "shopping_list.sort()\n",
    "\n",
    "# e) \n",
    "print(\"The sorted shopping list:\",shopping_list)"
   ]
  }
 ],
 "metadata": {
  "kernelspec": {
   "display_name": "Python 3 (ipykernel)",
   "language": "python",
   "name": "python3"
  },
  "language_info": {
   "codemirror_mode": {
    "name": "ipython",
    "version": 3
   },
   "file_extension": ".py",
   "mimetype": "text/x-python",
   "name": "python",
   "nbconvert_exporter": "python",
   "pygments_lexer": "ipython3",
   "version": "3.11.4"
  }
 },
 "nbformat": 4,
 "nbformat_minor": 5
}
